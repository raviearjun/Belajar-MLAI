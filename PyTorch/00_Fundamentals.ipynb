{
 "cells": [
  {
   "cell_type": "markdown",
   "metadata": {},
   "source": [
    "# 00_PyTorch Fundamentals"
   ]
  },
  {
   "cell_type": "code",
   "execution_count": 1,
   "metadata": {},
   "outputs": [
    {
     "name": "stdout",
     "output_type": "stream",
     "text": [
      "Requirement already satisfied: torch in c:\\users\\asus expertbook\\anaconda3\\lib\\site-packages (2.5.1)\n",
      "Requirement already satisfied: filelock in c:\\users\\asus expertbook\\anaconda3\\lib\\site-packages (from torch) (3.13.1)\n",
      "Requirement already satisfied: typing-extensions>=4.8.0 in c:\\users\\asus expertbook\\anaconda3\\lib\\site-packages (from torch) (4.11.0)\n",
      "Requirement already satisfied: networkx in c:\\users\\asus expertbook\\anaconda3\\lib\\site-packages (from torch) (3.3)\n",
      "Requirement already satisfied: jinja2 in c:\\users\\asus expertbook\\anaconda3\\lib\\site-packages (from torch) (3.1.4)\n",
      "Requirement already satisfied: fsspec in c:\\users\\asus expertbook\\anaconda3\\lib\\site-packages (from torch) (2024.6.1)\n",
      "Requirement already satisfied: setuptools in c:\\users\\asus expertbook\\anaconda3\\lib\\site-packages (from torch) (75.1.0)\n",
      "Requirement already satisfied: sympy==1.13.1 in c:\\users\\asus expertbook\\anaconda3\\lib\\site-packages (from torch) (1.13.1)\n",
      "Requirement already satisfied: mpmath<1.4,>=1.1.0 in c:\\users\\asus expertbook\\anaconda3\\lib\\site-packages (from sympy==1.13.1->torch) (1.3.0)\n",
      "Requirement already satisfied: MarkupSafe>=2.0 in c:\\users\\asus expertbook\\anaconda3\\lib\\site-packages (from jinja2->torch) (2.1.3)\n",
      "Note: you may need to restart the kernel to use updated packages.\n",
      "2.5.1+cpu\n"
     ]
    }
   ],
   "source": [
    "# Install torch module\n",
    "%pip install torch\n",
    "\n",
    "import torch\n",
    "print(torch.__version__)"
   ]
  },
  {
   "cell_type": "code",
   "execution_count": 2,
   "metadata": {},
   "outputs": [],
   "source": [
    "import torch"
   ]
  },
  {
   "cell_type": "markdown",
   "metadata": {},
   "source": [
    "## Intro to Tensors"
   ]
  },
  {
   "cell_type": "code",
   "execution_count": 3,
   "metadata": {},
   "outputs": [
    {
     "data": {
      "text/plain": [
       "tensor(7)"
      ]
     },
     "execution_count": 3,
     "metadata": {},
     "output_type": "execute_result"
    }
   ],
   "source": [
    "# scalar\n",
    "scalar = torch.tensor(7)\n",
    "scalar"
   ]
  },
  {
   "cell_type": "code",
   "execution_count": 4,
   "metadata": {},
   "outputs": [
    {
     "data": {
      "text/plain": [
       "0"
      ]
     },
     "execution_count": 4,
     "metadata": {},
     "output_type": "execute_result"
    }
   ],
   "source": [
    "scalar.ndim"
   ]
  },
  {
   "cell_type": "code",
   "execution_count": 5,
   "metadata": {},
   "outputs": [
    {
     "data": {
      "text/plain": [
       "tensor([7, 7])"
      ]
     },
     "execution_count": 5,
     "metadata": {},
     "output_type": "execute_result"
    }
   ],
   "source": [
    "# vector\n",
    "vector = torch.tensor([7, 7])\n",
    "vector"
   ]
  },
  {
   "cell_type": "code",
   "execution_count": 6,
   "metadata": {},
   "outputs": [
    {
     "data": {
      "text/plain": [
       "1"
      ]
     },
     "execution_count": 6,
     "metadata": {},
     "output_type": "execute_result"
    }
   ],
   "source": [
    "vector.ndim"
   ]
  },
  {
   "cell_type": "code",
   "execution_count": 7,
   "metadata": {},
   "outputs": [
    {
     "data": {
      "text/plain": [
       "tensor([[[[1, 1, 1],\n",
       "          [2, 2, 2],\n",
       "          [3, 3, 3],\n",
       "          [4, 4, 4]]],\n",
       "\n",
       "\n",
       "        [[[1, 1, 2],\n",
       "          [2, 2, 2],\n",
       "          [3, 3, 3],\n",
       "          [4, 4, 4]]]])"
      ]
     },
     "execution_count": 7,
     "metadata": {},
     "output_type": "execute_result"
    }
   ],
   "source": [
    "#MATRIX \n",
    "MATRIX = torch.tensor([[[[1, 1, 1],\n",
    "                         [2, 2, 2],\n",
    "                         [3, 3, 3],\n",
    "                         [4, 4, 4]]],\n",
    "                         [[[1, 1, 2],\n",
    "                         [2, 2, 2],\n",
    "                         [3, 3, 3],\n",
    "                         [4, 4, 4]]]])\n",
    "MATRIX"
   ]
  },
  {
   "cell_type": "code",
   "execution_count": 8,
   "metadata": {},
   "outputs": [
    {
     "data": {
      "text/plain": [
       "4"
      ]
     },
     "execution_count": 8,
     "metadata": {},
     "output_type": "execute_result"
    }
   ],
   "source": [
    "MATRIX.ndim # dimensi adalah banyaknya square brackets di dalam tensor"
   ]
  },
  {
   "cell_type": "code",
   "execution_count": 9,
   "metadata": {},
   "outputs": [
    {
     "data": {
      "text/plain": [
       "torch.Size([2, 1, 4, 3])"
      ]
     },
     "execution_count": 9,
     "metadata": {},
     "output_type": "execute_result"
    }
   ],
   "source": [
    "MATRIX.shape # shape adalah urutan banyaknya elemen pada sqb terluar ke terdalam"
   ]
  },
  {
   "cell_type": "markdown",
   "metadata": {},
   "source": [
    "### Random Tensors"
   ]
  },
  {
   "cell_type": "code",
   "execution_count": 10,
   "metadata": {},
   "outputs": [
    {
     "data": {
      "text/plain": [
       "tensor([[0.4599, 0.5130, 0.4092, 0.0238, 0.8088, 0.0241, 0.4793, 0.9092, 0.8782,\n",
       "         0.7583],\n",
       "        [0.7279, 0.8827, 0.4762, 0.7679, 0.0282, 0.4664, 0.7464, 0.0771, 0.5633,\n",
       "         0.2996],\n",
       "        [0.9853, 0.2380, 0.2530, 0.2884, 0.8082, 0.3791, 0.9140, 0.4900, 0.0996,\n",
       "         0.4939],\n",
       "        [0.0147, 0.2076, 0.7268, 0.8152, 0.4270, 0.1592, 0.2757, 0.3615, 0.0758,\n",
       "         0.2183],\n",
       "        [0.7000, 0.4233, 0.5144, 0.0555, 0.9692, 0.7803, 0.6508, 0.5954, 0.4827,\n",
       "         0.2271],\n",
       "        [0.9394, 0.6983, 0.1233, 0.7252, 0.5653, 0.7393, 0.2905, 0.7510, 0.6818,\n",
       "         0.1631],\n",
       "        [0.5807, 0.5395, 0.1266, 0.6156, 0.1072, 0.1880, 0.2113, 0.9635, 0.1183,\n",
       "         0.3580],\n",
       "        [0.7624, 0.1775, 0.6023, 0.9845, 0.1116, 0.2217, 0.7251, 0.8419, 0.0575,\n",
       "         0.3422],\n",
       "        [0.8580, 0.2866, 0.1647, 0.3779, 0.6109, 0.9863, 0.3853, 0.8145, 0.9259,\n",
       "         0.2271],\n",
       "        [0.3514, 0.9662, 0.1609, 0.9573, 0.2277, 0.6088, 0.0865, 0.1452, 0.6194,\n",
       "         0.5696]])"
      ]
     },
     "execution_count": 10,
     "metadata": {},
     "output_type": "execute_result"
    }
   ],
   "source": [
    "random_tensor = torch.rand(10, 10)\n",
    "random_tensor"
   ]
  },
  {
   "cell_type": "code",
   "execution_count": 11,
   "metadata": {},
   "outputs": [
    {
     "data": {
      "text/plain": [
       "(torch.Size([224, 224, 3]), 3)"
      ]
     },
     "execution_count": 11,
     "metadata": {},
     "output_type": "execute_result"
    }
   ],
   "source": [
    "random_image_tensor = torch.rand(size=(224, 224, 3)) # height, width, color channel\n",
    "random_image_tensor.shape, random_image_tensor.ndim"
   ]
  },
  {
   "cell_type": "markdown",
   "metadata": {},
   "source": [
    "### Zeros and Ones tensor"
   ]
  },
  {
   "cell_type": "code",
   "execution_count": 12,
   "metadata": {},
   "outputs": [
    {
     "data": {
      "text/plain": [
       "tensor([[0., 0., 0., 0.],\n",
       "        [0., 0., 0., 0.],\n",
       "        [0., 0., 0., 0.]])"
      ]
     },
     "execution_count": 12,
     "metadata": {},
     "output_type": "execute_result"
    }
   ],
   "source": [
    "ones = torch.ones(3, 4)\n",
    "ones * torch.zeros(3, 4)"
   ]
  },
  {
   "cell_type": "markdown",
   "metadata": {},
   "source": [
    "### Tensor Datatype\n",
    "\n",
    "**Note** : 3 error yang akan sering ditemui ketika belajar PyTorch & Deep Learning\n",
    "1. tipe data tensor yang salah\n",
    "2. bentuk tensor yang tidak benar\n",
    "3. tensors not in the right device\n"
   ]
  },
  {
   "cell_type": "code",
   "execution_count": 13,
   "metadata": {},
   "outputs": [
    {
     "data": {
      "text/plain": [
       "torch.float32"
      ]
     },
     "execution_count": 13,
     "metadata": {},
     "output_type": "execute_result"
    }
   ],
   "source": [
    "# float32 tensors\n",
    "float_32_tensor =  torch.tensor([3.0, 6.0, 4.0], \n",
    "                                dtype=None, # default is torch.float32 \n",
    "                                device=None, # what device the tensor is on\n",
    "                                requires_grad=False) # whether or not to track gradients with this tensor\n",
    "float_32_tensor.dtype"
   ]
  },
  {
   "cell_type": "code",
   "execution_count": 14,
   "metadata": {},
   "outputs": [
    {
     "data": {
      "text/plain": [
       "tensor([ 9., 36., 16.])"
      ]
     },
     "execution_count": 14,
     "metadata": {},
     "output_type": "execute_result"
    }
   ],
   "source": [
    "tensor_64_int = torch.tensor([3, 6, 4], dtype=torch.int64)\n",
    "\n",
    "multiply = float_32_tensor * tensor_64_int\n",
    "multiply"
   ]
  },
  {
   "cell_type": "markdown",
   "metadata": {},
   "source": [
    "- tensor dengan tipe data yang berbeda bisa dioperasikan, namun hasilnya akan mengikuti tipe data yang lebih tinggi\n",
    "- untuk mengetahui type data tensor, kita bisa menggunakan `.dtype`\n",
    "- untuk mengetahui device apa yang digunakan untuk mengoperasikan tensor, kita bisa menggunakana `.device`\n",
    "- untuk mengetahui shape dari tensor, kita bisa menggunakan `.shape`\n",
    "\n"
   ]
  },
  {
   "cell_type": "code",
   "execution_count": 15,
   "metadata": {},
   "outputs": [
    {
     "data": {
      "text/plain": [
       "device(type='cpu')"
      ]
     },
     "execution_count": 15,
     "metadata": {},
     "output_type": "execute_result"
    }
   ],
   "source": [
    "tensor_64_int.device"
   ]
  },
  {
   "cell_type": "code",
   "execution_count": 16,
   "metadata": {},
   "outputs": [
    {
     "name": "stdout",
     "output_type": "stream",
     "text": [
      "tensor([[0.0367, 0.5030, 0.6723, 0.3314, 0.6376],\n",
      "        [0.9094, 0.7945, 0.7487, 0.6407, 0.3068],\n",
      "        [0.3123, 0.9125, 0.1996, 0.3334, 0.8196],\n",
      "        [0.3222, 0.4514, 0.4520, 0.7790, 0.3495],\n",
      "        [0.7382, 0.1261, 0.0213, 0.6640, 0.9417]])\n",
      "The shape of the tensor is : torch.Size([5, 5])\n",
      "The dtype of the tensor is a : torch.float32\n",
      "The device the tensor executed is on : cpu\n"
     ]
    }
   ],
   "source": [
    "rand_tensor = torch.rand(5, 5);\n",
    "print(rand_tensor)\n",
    "print(f\"The shape of the tensor is : {rand_tensor.shape}\")\n",
    "print(f\"The dtype of the tensor is a : {rand_tensor.dtype}\")\n",
    "print(f\"The device the tensor executed is on : {rand_tensor.device}\")\n"
   ]
  },
  {
   "cell_type": "markdown",
   "metadata": {},
   "source": [
    "### Tensor Manipulation\n",
    "\n",
    "Tensor operations, include :\n",
    "1. addition\n",
    "2. subtraction\n",
    "3. multiplication (elemen wise)\n",
    "4. division \n",
    "5. matrix multiplication"
   ]
  },
  {
   "cell_type": "code",
   "execution_count": 17,
   "metadata": {},
   "outputs": [
    {
     "data": {
      "text/plain": [
       "tensor([[0.1645, 0.9184, 0.0251],\n",
       "        [0.3773, 0.6589, 0.9662],\n",
       "        [0.4900, 0.9818, 0.4260]])"
      ]
     },
     "execution_count": 17,
     "metadata": {},
     "output_type": "execute_result"
    }
   ],
   "source": [
    "# create a tensor\n",
    "num_tensor = torch.rand(3, 3)\n",
    "num_tensor"
   ]
  },
  {
   "cell_type": "code",
   "execution_count": 18,
   "metadata": {},
   "outputs": [
    {
     "data": {
      "text/plain": [
       "tensor([[1.6449, 9.1845, 0.2507],\n",
       "        [3.7735, 6.5887, 9.6622],\n",
       "        [4.8997, 9.8176, 4.2598]])"
      ]
     },
     "execution_count": 18,
     "metadata": {},
     "output_type": "execute_result"
    }
   ],
   "source": [
    "# membuat tensor berada dalam rentang 0-9\n",
    "num_tensor *= 10\n",
    "num_tensor"
   ]
  },
  {
   "cell_type": "code",
   "execution_count": 19,
   "metadata": {},
   "outputs": [
    {
     "data": {
      "text/plain": [
       "tensor([[ 2.6449, 10.1845,  1.2507],\n",
       "        [ 4.7735,  7.5887, 10.6622],\n",
       "        [ 5.8997, 10.8176,  5.2598]])"
      ]
     },
     "execution_count": 19,
     "metadata": {},
     "output_type": "execute_result"
    }
   ],
   "source": [
    "\n",
    "# menambahkan angka ke dalam tensor\n",
    "num_tensor + 1"
   ]
  },
  {
   "cell_type": "code",
   "execution_count": 20,
   "metadata": {},
   "outputs": [
    {
     "data": {
      "text/plain": [
       "tensor([[ 2.6449, 10.1845,  1.2507],\n",
       "        [ 4.7735,  7.5887, 10.6622],\n",
       "        [ 5.8997, 10.8176,  5.2598]])"
      ]
     },
     "execution_count": 20,
     "metadata": {},
     "output_type": "execute_result"
    }
   ],
   "source": [
    "# menambahkan tensor suatu bilangan\n",
    "num_tensor + 1"
   ]
  },
  {
   "cell_type": "code",
   "execution_count": 21,
   "metadata": {},
   "outputs": [
    {
     "data": {
      "text/plain": [
       "tensor([[ 0.6449,  8.1845, -0.7493],\n",
       "        [ 2.7735,  5.5887,  8.6622],\n",
       "        [ 3.8997,  8.8176,  3.2598]])"
      ]
     },
     "execution_count": 21,
     "metadata": {},
     "output_type": "execute_result"
    }
   ],
   "source": [
    "# mengurangi tensor suatu bilangan\n",
    "num_tensor - 1"
   ]
  },
  {
   "cell_type": "markdown",
   "metadata": {},
   "source": [
    "#### Tensor Multiplication\n",
    "1. Element-wise mul\n",
    "2. Matrix mul"
   ]
  },
  {
   "cell_type": "code",
   "execution_count": 22,
   "metadata": {},
   "outputs": [
    {
     "data": {
      "text/plain": [
       "tensor([[4, 9, 6],\n",
       "        [4, 7, 4],\n",
       "        [4, 9, 0]])"
      ]
     },
     "execution_count": 22,
     "metadata": {},
     "output_type": "execute_result"
    }
   ],
   "source": [
    "int_tensor = (torch.rand(3, 3)*10).to(torch.int64)\n",
    "int_tensor"
   ]
  },
  {
   "cell_type": "code",
   "execution_count": 23,
   "metadata": {},
   "outputs": [
    {
     "data": {
      "text/plain": [
       "tensor([[40, 90, 60],\n",
       "        [40, 70, 40],\n",
       "        [40, 90,  0]])"
      ]
     },
     "execution_count": 23,
     "metadata": {},
     "output_type": "execute_result"
    }
   ],
   "source": [
    "# Element-wise multiplication\n",
    "int_tensor * 10\n"
   ]
  },
  {
   "cell_type": "markdown",
   "metadata": {},
   "source": [
    "Menggunakan looping manual tanpa bantuan PyTorch\n"
   ]
  },
  {
   "cell_type": "code",
   "execution_count": 24,
   "metadata": {},
   "outputs": [
    {
     "name": "stdout",
     "output_type": "stream",
     "text": [
      "tensor(20)\n",
      "CPU times: total: 0 ns\n",
      "Wall time: 1.99 ms\n"
     ]
    }
   ],
   "source": [
    "%%time\n",
    "tensor1 = torch.tensor([1, 2, 3])\n",
    "tensor2 = torch.tensor([2, 3, 4])\n",
    "total = 0\n",
    "\n",
    "for i in range(len(tensor1)):\n",
    "    total += tensor1[i] * tensor2[i]\n",
    "print(total)"
   ]
  },
  {
   "cell_type": "markdown",
   "metadata": {},
   "source": [
    "Menggunakan framework PyTorch\n"
   ]
  },
  {
   "cell_type": "code",
   "execution_count": 25,
   "metadata": {},
   "outputs": [
    {
     "name": "stdout",
     "output_type": "stream",
     "text": [
      "tensor(20)\n",
      "CPU times: total: 0 ns\n",
      "Wall time: 5 ms\n"
     ]
    }
   ],
   "source": [
    "%%time\n",
    "print(torch.matmul(tensor1, tensor2))"
   ]
  },
  {
   "cell_type": "code",
   "execution_count": 26,
   "metadata": {},
   "outputs": [
    {
     "name": "stdout",
     "output_type": "stream",
     "text": [
      "shape of tensor A is torch.Size([3, 2]) and shape of tensor B is torch.Size([3, 2])\n"
     ]
    }
   ],
   "source": [
    "tensor_A = torch.tensor([[1, 2],\n",
    "                          [3, 4],\n",
    "                          [5, 6]])\n",
    "tensor_B = torch.tensor([[7, 10],\n",
    "                          [8, 11],\n",
    "                          [9, 12]])\n",
    "print(f\"shape of tensor A is {tensor_A.shape} and shape of tensor B is {tensor_B.shape}\")"
   ]
  },
  {
   "cell_type": "code",
   "execution_count": 27,
   "metadata": {},
   "outputs": [
    {
     "data": {
      "text/plain": [
       "(tensor([[ 27,  30,  33],\n",
       "         [ 61,  68,  75],\n",
       "         [ 95, 106, 117]]),\n",
       " torch.Size([3, 3]))"
      ]
     },
     "execution_count": 27,
     "metadata": {},
     "output_type": "execute_result"
    }
   ],
   "source": [
    "# matrix multiplication     \n",
    "AxB = torch.mm(tensor_A, tensor_B.T)\n",
    "AxB, AxB.shape"
   ]
  },
  {
   "cell_type": "markdown",
   "metadata": {},
   "source": [
    "#### Tensor Aggregation \n",
    "Finding min, max, mean, sum, etc"
   ]
  },
  {
   "cell_type": "code",
   "execution_count": 28,
   "metadata": {},
   "outputs": [
    {
     "data": {
      "text/plain": [
       "tensor([ 0., 10., 20., 30., 40., 50., 60., 70., 80., 90.])"
      ]
     },
     "execution_count": 28,
     "metadata": {},
     "output_type": "execute_result"
    }
   ],
   "source": [
    "X = torch.arange(0, 100, 10)\n",
    "X = X.to(torch.float32)\n",
    "X"
   ]
  },
  {
   "cell_type": "code",
   "execution_count": 29,
   "metadata": {},
   "outputs": [
    {
     "data": {
      "text/plain": [
       "(tensor(0.), tensor(90.), tensor(45.))"
      ]
     },
     "execution_count": 29,
     "metadata": {},
     "output_type": "execute_result"
    }
   ],
   "source": [
    "torch.min(X), torch.max(X), torch.mean(X)"
   ]
  },
  {
   "cell_type": "code",
   "execution_count": 30,
   "metadata": {},
   "outputs": [
    {
     "data": {
      "text/plain": [
       "(tensor(9), tensor(0))"
      ]
     },
     "execution_count": 30,
     "metadata": {},
     "output_type": "execute_result"
    }
   ],
   "source": [
    "# find the index of the max value\n",
    "torch.argmax(X), torch.argmin(X)"
   ]
  },
  {
   "cell_type": "markdown",
   "metadata": {},
   "source": [
    "### Reshaping, stacking, squeezing, and unsqueezing\n",
    "\n",
    "* Reshaping - reshape an input tensor to a defined shape\n",
    "* View \n",
    "* Stacking - combine multiple tensors on top of each other (vstack) or side by side (hstack)\n",
    "* Squeeze - removes all `1` dimension from a tensor\n",
    "* Unsqueeze - add a `1` dimension to a target tensor\n",
    "* Permute - Return a view of the input dimension permuted(swapped) in a certain way"
   ]
  },
  {
   "cell_type": "code",
   "execution_count": 31,
   "metadata": {},
   "outputs": [
    {
     "data": {
      "text/plain": [
       "(tensor([ 1,  2,  3,  4,  5,  6,  7,  8,  9, 10, 11, 12]), torch.Size([12]))"
      ]
     },
     "execution_count": 31,
     "metadata": {},
     "output_type": "execute_result"
    }
   ],
   "source": [
    "# Reshape\n",
    "tensor_A = torch.arange(1,13, 1);\n",
    "tensor_A, tensor_A.size()"
   ]
  },
  {
   "cell_type": "code",
   "execution_count": 32,
   "metadata": {},
   "outputs": [
    {
     "data": {
      "text/plain": [
       "(tensor([[ 1,  2,  3,  4],\n",
       "         [ 5,  6,  7,  8],\n",
       "         [ 9, 10, 11, 12]]),\n",
       " tensor([[ 1,  2,  3,  4,  5,  6],\n",
       "         [ 7,  8,  9, 10, 11, 12]]))"
      ]
     },
     "execution_count": 32,
     "metadata": {},
     "output_type": "execute_result"
    }
   ],
   "source": [
    "tensor_A.reshape(3, 4), tensor_A.reshape(2, 6)\n"
   ]
  },
  {
   "cell_type": "code",
   "execution_count": 33,
   "metadata": {},
   "outputs": [
    {
     "data": {
      "text/plain": [
       "(tensor([[ 1,  2,  3,  4],\n",
       "         [ 5,  6,  7,  8],\n",
       "         [ 9, 10, 11, 12]]),\n",
       " torch.Size([3, 4]),\n",
       " 2)"
      ]
     },
     "execution_count": 33,
     "metadata": {},
     "output_type": "execute_result"
    }
   ],
   "source": [
    "# Add extra dimension\n",
    "A_reshaped = tensor_A.reshape(3, 4)\n",
    "A_reshaped, A_reshaped.shape, A_reshaped.dim()"
   ]
  },
  {
   "cell_type": "markdown",
   "metadata": {},
   "source": [
    "#### View\n"
   ]
  },
  {
   "cell_type": "code",
   "execution_count": 34,
   "metadata": {},
   "outputs": [
    {
     "data": {
      "text/plain": [
       "(tensor([[1, 2, 3, 4, 5, 6, 7, 8, 9]]), torch.Size([1, 9]))"
      ]
     },
     "execution_count": 34,
     "metadata": {},
     "output_type": "execute_result"
    }
   ],
   "source": [
    "X = torch.arange(1, 10, 1)\n",
    "Z = X.view(1, 9)\n",
    "Z, Z.shape"
   ]
  },
  {
   "cell_type": "code",
   "execution_count": 35,
   "metadata": {},
   "outputs": [
    {
     "data": {
      "text/plain": [
       "(tensor([[5, 2, 3, 4, 5, 6, 7, 8, 9]]), tensor([5, 2, 3, 4, 5, 6, 7, 8, 9]))"
      ]
     },
     "execution_count": 35,
     "metadata": {},
     "output_type": "execute_result"
    }
   ],
   "source": [
    "Z[:, 0] = 5\n",
    "Z, X"
   ]
  },
  {
   "cell_type": "markdown",
   "metadata": {},
   "source": [
    "#### Squeeze and Unsqueeze"
   ]
  },
  {
   "cell_type": "code",
   "execution_count": 36,
   "metadata": {},
   "outputs": [
    {
     "name": "stdout",
     "output_type": "stream",
     "text": [
      "ini adalah tensor awal : tensor([[1, 2, 3, 4, 5, 6, 7, 8, 9]])\n",
      "ukurannya adalah torch.Size([1, 9])\n",
      "ini adalah tensor hasil squeezing tensor([1, 2, 3, 4, 5, 6, 7, 8, 9])\n",
      "ukurannya adalah torch.Size([9])\n"
     ]
    }
   ],
   "source": [
    "# torch.squeeze removes all single dimension from a target tensor\n",
    "# membuat tensor\n",
    "X = torch.arange(1, 10, 1)\n",
    "X_reshaped = X.reshape(1, 9)\n",
    "\n",
    "# melihat dimensi\n",
    "print(f\"ini adalah tensor awal : {X_reshaped}\")\n",
    "print(f\"ukurannya adalah {X_reshaped.shape}\")\n",
    "\n",
    "# menampilkan dimensi akhir\n",
    "X_squeezed = X_reshaped.squeeze()\n",
    "print(f\"ini adalah tensor hasil squeezing {X_squeezed}\")\n",
    "print(f\"ukurannya adalah {X_squeezed.shape}\")"
   ]
  },
  {
   "cell_type": "code",
   "execution_count": 37,
   "metadata": {},
   "outputs": [
    {
     "name": "stdout",
     "output_type": "stream",
     "text": [
      "ini adalah tensor awal : tensor([1, 2, 3, 4, 5, 6, 7, 8, 9])\n",
      "ukurannya adalah : torch.Size([9])\n",
      "ini adalah tensor hasil unsqueeze tensor([[1, 2, 3, 4, 5, 6, 7, 8, 9]])\n",
      "ukurannya adalah : torch.Size([1, 9])\n"
     ]
    }
   ],
   "source": [
    "# torch.unsquezee() - add a single dimension to a target tensor\n",
    "\n",
    "# melihat dimensi\n",
    "print(f\"ini adalah tensor awal : {X_squeezed}\")\n",
    "print(f\"ukurannya adalah : {X_squeezed.shape}\")\n",
    "\n",
    "X_unsqueezed = X_squeezed.unsqueeze(0)\n",
    "print(f\"ini adalah tensor hasil unsqueeze {X_unsqueezed}\")\n",
    "print(f\"ukurannya adalah : {X_unsqueezed.shape}\")\n"
   ]
  },
  {
   "cell_type": "markdown",
   "metadata": {},
   "source": [
    "#### Tensor Permutation\n",
    "Fungsi utama : mengubah urutan dimensi yang dimiliki tensor\n",
    "\n",
    "**note** : permutasi tensor adalah view dari tensor asal, artinya mengubah tensor hasil permutasi juga mengubah tensor asal karena mereka berbagi alamat memori yang sama"
   ]
  },
  {
   "cell_type": "code",
   "execution_count": 38,
   "metadata": {},
   "outputs": [
    {
     "name": "stdout",
     "output_type": "stream",
     "text": [
      "ini adalah tensor awal tensor([[[0.0135, 0.5301, 0.2751],\n",
      "         [0.9390, 0.5017, 0.3684],\n",
      "         [0.8290, 0.7306, 0.3658],\n",
      "         ...,\n",
      "         [0.7221, 0.7464, 0.8232],\n",
      "         [0.7700, 0.9480, 0.2787],\n",
      "         [0.5450, 0.6528, 0.9289]],\n",
      "\n",
      "        [[0.7770, 0.1317, 0.4737],\n",
      "         [0.0543, 0.2480, 0.6150],\n",
      "         [0.0675, 0.7922, 0.7423],\n",
      "         ...,\n",
      "         [0.1988, 0.8924, 0.2050],\n",
      "         [0.0795, 0.2429, 0.1076],\n",
      "         [0.5273, 0.6303, 0.9030]],\n",
      "\n",
      "        [[0.7372, 0.3746, 0.1183],\n",
      "         [0.9346, 0.7384, 0.1769],\n",
      "         [0.3103, 0.2006, 0.0570],\n",
      "         ...,\n",
      "         [0.3443, 0.4263, 0.5726],\n",
      "         [0.8637, 0.5003, 0.7419],\n",
      "         [0.2029, 0.8538, 0.3756]],\n",
      "\n",
      "        ...,\n",
      "\n",
      "        [[0.8097, 0.8114, 0.9682],\n",
      "         [0.8678, 0.4224, 0.7170],\n",
      "         [0.6821, 0.3761, 0.4693],\n",
      "         ...,\n",
      "         [0.7239, 0.6189, 0.7925],\n",
      "         [0.7492, 0.4488, 0.4851],\n",
      "         [0.0109, 0.5325, 0.3658]],\n",
      "\n",
      "        [[0.0864, 0.6812, 0.6426],\n",
      "         [0.8776, 0.9161, 0.7022],\n",
      "         [0.6844, 0.0436, 0.3659],\n",
      "         ...,\n",
      "         [0.1132, 0.6522, 0.4569],\n",
      "         [0.1515, 0.3034, 0.8484],\n",
      "         [0.7201, 0.0757, 0.0111]],\n",
      "\n",
      "        [[0.1483, 0.6472, 0.2442],\n",
      "         [0.6573, 0.8616, 0.1248],\n",
      "         [0.4432, 0.2085, 0.7136],\n",
      "         ...,\n",
      "         [0.9623, 0.4681, 0.2826],\n",
      "         [0.0430, 0.4739, 0.5040],\n",
      "         [0.2396, 0.7628, 0.1639]]])\n",
      "bentuknya adalah : torch.Size([224, 224, 3])\n",
      "ini adalah tensor permuted tensor([[[0.0135, 0.9390, 0.8290,  ..., 0.7221, 0.7700, 0.5450],\n",
      "         [0.7770, 0.0543, 0.0675,  ..., 0.1988, 0.0795, 0.5273],\n",
      "         [0.7372, 0.9346, 0.3103,  ..., 0.3443, 0.8637, 0.2029],\n",
      "         ...,\n",
      "         [0.8097, 0.8678, 0.6821,  ..., 0.7239, 0.7492, 0.0109],\n",
      "         [0.0864, 0.8776, 0.6844,  ..., 0.1132, 0.1515, 0.7201],\n",
      "         [0.1483, 0.6573, 0.4432,  ..., 0.9623, 0.0430, 0.2396]],\n",
      "\n",
      "        [[0.5301, 0.5017, 0.7306,  ..., 0.7464, 0.9480, 0.6528],\n",
      "         [0.1317, 0.2480, 0.7922,  ..., 0.8924, 0.2429, 0.6303],\n",
      "         [0.3746, 0.7384, 0.2006,  ..., 0.4263, 0.5003, 0.8538],\n",
      "         ...,\n",
      "         [0.8114, 0.4224, 0.3761,  ..., 0.6189, 0.4488, 0.5325],\n",
      "         [0.6812, 0.9161, 0.0436,  ..., 0.6522, 0.3034, 0.0757],\n",
      "         [0.6472, 0.8616, 0.2085,  ..., 0.4681, 0.4739, 0.7628]],\n",
      "\n",
      "        [[0.2751, 0.3684, 0.3658,  ..., 0.8232, 0.2787, 0.9289],\n",
      "         [0.4737, 0.6150, 0.7423,  ..., 0.2050, 0.1076, 0.9030],\n",
      "         [0.1183, 0.1769, 0.0570,  ..., 0.5726, 0.7419, 0.3756],\n",
      "         ...,\n",
      "         [0.9682, 0.7170, 0.4693,  ..., 0.7925, 0.4851, 0.3658],\n",
      "         [0.6426, 0.7022, 0.3659,  ..., 0.4569, 0.8484, 0.0111],\n",
      "         [0.2442, 0.1248, 0.7136,  ..., 0.2826, 0.5040, 0.1639]]])\n",
      "bentuknya adalah : torch.Size([3, 224, 224])\n"
     ]
    }
   ],
   "source": [
    "x_original = torch.rand(size=(224, 224, 3)) # height, width, color channel\n",
    "print(f\"ini adalah tensor awal {x_original}\")\n",
    "print(f\"bentuknya adalah : {x_original.shape}\")\n",
    "\n",
    "# Permute the original tensor to rearrange the axis (or dim) order\n",
    "x_permuted = x_original.permute(2, 0, 1)\n",
    "print(f\"ini adalah tensor permuted {x_permuted}\")\n",
    "print(f\"bentuknya adalah : {x_permuted.shape}\")\n"
   ]
  },
  {
   "cell_type": "code",
   "execution_count": 39,
   "metadata": {},
   "outputs": [
    {
     "data": {
      "text/plain": [
       "(tensor(12345.), tensor(12345.))"
      ]
     },
     "execution_count": 39,
     "metadata": {},
     "output_type": "execute_result"
    }
   ],
   "source": [
    "# bukti bahwa keduanya berbagi alamat memori yang sama\n",
    "x_original[0, 0, 0] = 12345\n",
    "x_original[0, 0, 0], x_permuted[0, 0, 0]    "
   ]
  },
  {
   "cell_type": "markdown",
   "metadata": {},
   "source": [
    "### Indexing and Slicing\n"
   ]
  },
  {
   "cell_type": "code",
   "execution_count": 40,
   "metadata": {},
   "outputs": [
    {
     "data": {
      "text/plain": [
       "tensor([[[1, 2, 3],\n",
       "         [4, 5, 6],\n",
       "         [7, 8, 9]]])"
      ]
     },
     "execution_count": 40,
     "metadata": {},
     "output_type": "execute_result"
    }
   ],
   "source": [
    "# creating a tensor\n",
    "x = torch.tensor([[[1, 2, 3],\n",
    "                   [4, 5, 6],\n",
    "                   [7, 8, 9]]])\n",
    "x"
   ]
  },
  {
   "cell_type": "code",
   "execution_count": 41,
   "metadata": {},
   "outputs": [
    {
     "data": {
      "text/plain": [
       "tensor([[3, 6, 9]])"
      ]
     },
     "execution_count": 41,
     "metadata": {},
     "output_type": "execute_result"
    }
   ],
   "source": [
    "x[:, :, 2] # all rows, all columns, index 2"
   ]
  },
  {
   "cell_type": "code",
   "execution_count": 42,
   "metadata": {},
   "outputs": [
    {
     "data": {
      "text/plain": [
       "tensor([8])"
      ]
     },
     "execution_count": 42,
     "metadata": {},
     "output_type": "execute_result"
    }
   ],
   "source": [
    "x[:, 2, 1]"
   ]
  },
  {
   "cell_type": "code",
   "execution_count": 43,
   "metadata": {},
   "outputs": [
    {
     "data": {
      "text/plain": [
       "tensor([6])"
      ]
     },
     "execution_count": 43,
     "metadata": {},
     "output_type": "execute_result"
    }
   ],
   "source": [
    "x[:, 1, 2]"
   ]
  },
  {
   "cell_type": "markdown",
   "metadata": {},
   "source": [
    "### Tensor and NumPy library\n",
    "\n"
   ]
  },
  {
   "cell_type": "code",
   "execution_count": 44,
   "metadata": {},
   "outputs": [
    {
     "data": {
      "text/plain": [
       "(tensor([1., 2., 3., 4., 5., 6., 7.]), torch.float32)"
      ]
     },
     "execution_count": 44,
     "metadata": {},
     "output_type": "execute_result"
    }
   ],
   "source": [
    "# numpy array to tensor \n",
    "import torch\n",
    "import numpy as np\n",
    "\n",
    "array = np.arange(1.0, 8.0, 1) # dtype : float64\n",
    "array = array.astype(np.float32) \n",
    "tensor = torch.from_numpy(array) \n",
    "tensor, tensor.dtype"
   ]
  },
  {
   "cell_type": "code",
   "execution_count": 45,
   "metadata": {},
   "outputs": [
    {
     "data": {
      "text/plain": [
       "(array([1., 2., 3., 4., 5., 6., 7.], dtype=float32), dtype('float32'))"
      ]
     },
     "execution_count": 45,
     "metadata": {},
     "output_type": "execute_result"
    }
   ],
   "source": [
    "np_array = tensor.numpy()\n",
    "np_array, np_array.dtype"
   ]
  },
  {
   "cell_type": "markdown",
   "metadata": {},
   "source": [
    "### Reproducibility\n"
   ]
  },
  {
   "cell_type": "markdown",
   "metadata": {},
   "source": [
    "Ketika kita ingin membuat tensor weight awal suatu neural network, kita mengaturnya dengan angka acak. Namun,tujuan penelitian mengharuskan angka2 acak itu bisa digunakan berulang2 sehingga peneliti2 lain bisa menghasilkan hasil yang serupa atau mendekati serupa\n",
    "\n",
    "Seed hadir sebagai angka yang akan diolah oleh algoritma pengacakan untuk menghasilkan angka acak awal. Angka acak awal ini akan digunakan untuk mengenerate angka acak selanjutnya, secara berantai."
   ]
  },
  {
   "cell_type": "code",
   "execution_count": 47,
   "metadata": {},
   "outputs": [
    {
     "name": "stdout",
     "output_type": "stream",
     "text": [
      "Tensor A : tensor([[0.8823, 0.9150, 0.3829, 0.9593, 0.3904],\n",
      "        [0.6009, 0.2566, 0.7936, 0.9408, 0.1332],\n",
      "        [0.9346, 0.5936, 0.8694, 0.5677, 0.7411],\n",
      "        [0.4294, 0.8854, 0.5739, 0.2666, 0.6274],\n",
      "        [0.2696, 0.4414, 0.2969, 0.8317, 0.1053]])\n",
      "Tensor B : tensor([[0.8823, 0.9150, 0.3829, 0.9593, 0.3904],\n",
      "        [0.6009, 0.2566, 0.7936, 0.9408, 0.1332],\n",
      "        [0.9346, 0.5936, 0.8694, 0.5677, 0.7411],\n",
      "        [0.4294, 0.8854, 0.5739, 0.2666, 0.6274],\n",
      "        [0.2696, 0.4414, 0.2969, 0.8317, 0.1053]])\n",
      "Does tensor A and B equal? True\n"
     ]
    }
   ],
   "source": [
    "# Set the random seed\n",
    "RANDOM_SEED = 42\n",
    "torch.manual_seed(RANDOM_SEED)\n",
    "\n",
    "# Generate the first tensors\n",
    "random_tensor_A = torch.rand(5, 5)\n",
    "\n",
    "# Set the random seed again. \n",
    "# This is important because the value of random_seed changes each time a new random number is generated\n",
    "torch.manual_seed(RANDOM_SEED)\n",
    "\n",
    "# Generate the second tensor\n",
    "random_tensor_B = torch.rand(5, 5)\n",
    "\n",
    "# Print the tensors\n",
    "print(f\"Tensor A : {random_tensor_A}\")\n",
    "print(f\"Tensor B : {random_tensor_B}\")\n",
    "print(\"Does tensor A and B equal?\", torch.equal(random_tensor_A, random_tensor_B))"
   ]
  }
 ],
 "metadata": {
  "kernelspec": {
   "display_name": "base",
   "language": "python",
   "name": "python3"
  },
  "language_info": {
   "codemirror_mode": {
    "name": "ipython",
    "version": 3
   },
   "file_extension": ".py",
   "mimetype": "text/x-python",
   "name": "python",
   "nbconvert_exporter": "python",
   "pygments_lexer": "ipython3",
   "version": "3.12.7"
  }
 },
 "nbformat": 4,
 "nbformat_minor": 2
}
